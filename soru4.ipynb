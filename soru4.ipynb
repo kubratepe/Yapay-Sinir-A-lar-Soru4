{
 "cells": [
  {
   "cell_type": "code",
   "execution_count": 32,
   "id": "5d7a92c0",
   "metadata": {},
   "outputs": [
    {
     "name": "stdout",
     "output_type": "stream",
     "text": [
      "tensor([[0.0498],\n",
      "        [0.0075]])\n"
     ]
    }
   ],
   "source": [
    "import torch\n",
    "\n",
    "# Seed ayarla\n",
    "torch.manual_seed(1)\n",
    "\n",
    "# Input verisi\n",
    "X = torch.tensor([[1., 2., 3.], [4., 5., 6.]])\n",
    "\n",
    "# Ağırlık matrisi (input'tan hidden'a)\n",
    "W1 = torch.randn((3, 50))\n",
    "\n",
    "# Bias vektörü (input'tan hidden'a)\n",
    "b1 = torch.randn((1, 50))\n",
    "\n",
    "# Hidden layer aktivasyon fonksiyonu (tanh)\n",
    "def tanh_activation(x):\n",
    "    return (torch.exp(x) - torch.exp(-x)) / (torch.exp(x) + torch.exp(-x))\n",
    "\n",
    "# Hidden layer\n",
    "hidden_layer = tanh_activation(torch.matmul(X, W1) + b1)\n",
    "\n",
    "# Ağırlık matrisi (hidden'dan output'a)\n",
    "W2 = torch.randn((50, 1))\n",
    "\n",
    "# Bias vektörü (hidden'dan output'a)\n",
    "b2 = torch.randn((1, 1))\n",
    "\n",
    "# Output layer aktivasyon fonksiyonu (sigmoid)\n",
    "def sigmoid_activation(x):\n",
    "    return 1 / (1 + torch.exp(-x))\n",
    "\n",
    "# Output layer\n",
    "output = sigmoid_activation(torch.matmul(hidden_layer, W2) + b2)\n",
    "\n",
    "print(output)"
   ]
  },
  {
   "cell_type": "code",
   "execution_count": 33,
   "id": "86252e7c",
   "metadata": {},
   "outputs": [
    {
     "name": "stdout",
     "output_type": "stream",
     "text": [
      "tensor([[0.0517],\n",
      "        [0.1340]])\n"
     ]
    }
   ],
   "source": [
    "import torch\n",
    "\n",
    "# Seed ayarla\n",
    "torch.manual_seed(190401017)\n",
    "\n",
    "# Input verisi\n",
    "X = torch.tensor([[1., 2., 3.], [4., 5., 6.]])\n",
    "\n",
    "# Ağırlık matrisi (input'tan hidden'a)\n",
    "W1 = torch.randn((3, 50))\n",
    "\n",
    "# Bias vektörü (input'tan hidden'a)\n",
    "b1 = torch.randn((1, 50))\n",
    "\n",
    "# Hidden layer aktivasyon fonksiyonu (tanh)\n",
    "def tanh_activation(x):\n",
    "    return (torch.exp(x) - torch.exp(-x)) / (torch.exp(x) + torch.exp(-x))\n",
    "\n",
    "# Hidden layer\n",
    "hidden_layer = tanh_activation(torch.matmul(X, W1) + b1)\n",
    "\n",
    "# Ağırlık matrisi (hidden'dan output'a)\n",
    "W2 = torch.randn((50, 1))\n",
    "\n",
    "# Bias vektörü (hidden'dan output'a)\n",
    "b2 = torch.randn((1, 1))\n",
    "\n",
    "# Output layer aktivasyon fonksiyonu (sigmoid)\n",
    "def sigmoid_activation(x):\n",
    "    return 1 / (1 + torch.exp(-x))\n",
    "\n",
    "# Output layer\n",
    "output = sigmoid_activation(torch.matmul(hidden_layer, W2) + b2)\n",
    "\n",
    "print(output)"
   ]
  }
 ],
 "metadata": {
  "kernelspec": {
   "display_name": "Python 3 (ipykernel)",
   "language": "python",
   "name": "python3"
  },
  "language_info": {
   "codemirror_mode": {
    "name": "ipython",
    "version": 3
   },
   "file_extension": ".py",
   "mimetype": "text/x-python",
   "name": "python",
   "nbconvert_exporter": "python",
   "pygments_lexer": "ipython3",
   "version": "3.8.0"
  }
 },
 "nbformat": 4,
 "nbformat_minor": 5
}
